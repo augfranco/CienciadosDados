{
 "cells": [
  {
   "cell_type": "markdown",
   "metadata": {},
   "source": [
    "# Projeto 2 - Classificador Automático de Sentimento - Augusto Franco e Pedro Isidoro\n",
    "\n",
    "\n",
    "Você foi contratado por uma empresa parar analisar como os clientes estão reagindo a um determinado produto no Twitter. A empresa deseja que você crie um programa que irá analisar as mensagens disponíveis e classificará como \"relevante\" ou \"irrelevante\". Com isso ela deseja que mensagens negativas, que denigrem o nome do produto, ou que mereçam destaque, disparem um foco de atenção da área de marketing.<br /><br />\n",
    "Como aluno de Ciência dos Dados, você lembrou do Teorema de Bayes, mais especificamente do Classificador Naive-Bayes, que é largamente utilizado em filtros anti-spam de e-mails. O classificador permite calcular qual a probabilidade de uma mensagem ser relevante dadas as palavras em seu conteúdo.<br /><br />\n",
    "Para realizar o MVP (*minimum viable product*) do projeto, você precisa implementar uma versão do classificador que \"aprende\" o que é relevante com uma base de treinamento e compara a performance dos resultados com uma base de testes.<br /><br />\n",
    "Após validado, o seu protótipo poderá também capturar e classificar automaticamente as mensagens da plataforma.\n",
    "\n",
    "## Informações do Projeto\n",
    "\n",
    "Prazo: 13/Set até às 23:59.<br />\n",
    "Grupo: 1 ou 2 pessoas.<br /><br />\n",
    "Entregáveis via GitHub: \n",
    "* Arquivo notebook com o código do classificador, seguindo as orientações abaixo.\n",
    "* Arquivo Excel com as bases de treinamento e teste totalmente classificado.\n",
    "\n",
    "**NÃO disponibilizar o arquivo com os *access keys/tokens* do Twitter.**\n",
    "\n",
    "\n",
    "### Check 3: \n",
    "\n",
    "Até o dia 06 de Setembro às 23:59, o notebook e o xlsx devem estar no Github com as seguintes evidências: \n",
    "    * Conta no twitter criada.\n",
    "    * Produto escolhido.\n",
    "    * Arquivo Excel contendo a base de treinamento e teste já classificado.\n",
    "    \n",
    "\n",
    "Sugestão de leitura:<br />\n",
    "http://docs.tweepy.org/en/v3.5.0/index.html<br />\n",
    "https://monkeylearn.com/blog/practical-explanation-naive-bayes-classifier/"
   ]
  },
  {
   "cell_type": "markdown",
   "metadata": {},
   "source": [
    "___\n",
    "\n",
    "## Preparando o ambiente\n",
    "\n",
    "Instalando a biblioteca *tweepy* para realizar a conexão com o Twitter:"
   ]
  },
  {
   "cell_type": "code",
   "execution_count": 1,
   "metadata": {
    "collapsed": true
   },
   "outputs": [],
   "source": [
    "%%capture\n",
    "\n",
    "#Instalando o tweepy\n",
    "!pip install tweepy"
   ]
  },
  {
   "cell_type": "markdown",
   "metadata": {},
   "source": [
    "Importando as Bibliotecas que serão utilizadas. Esteja livre para adicionar outras."
   ]
  },
  {
   "cell_type": "code",
   "execution_count": 2,
   "metadata": {
    "collapsed": true
   },
   "outputs": [],
   "source": [
    "import tweepy\n",
    "import math\n",
    "import os.path\n",
    "import pandas as pd\n",
    "import json\n",
    "from random import shuffle\n",
    "import string "
   ]
  },
  {
   "cell_type": "markdown",
   "metadata": {},
   "source": [
    "___\n",
    "## Autenticando no  Twitter\n",
    "\n",
    "Para realizar a captura dos dados é necessário ter uma conta cadastrada no twitter:\n",
    "\n",
    "* Conta: @augfranco97\n",
    "\n",
    "\n",
    "1. Caso ainda não tenha uma: https://twitter.com/signup\n",
    "1. Depois é necessário registrar um app para usar a biblioteca: https://apps.twitter.com/\n",
    "1. Dentro do registro do App, na aba Keys and Access Tokens, anotar os seguintes campos:\n",
    "    1. Consumer Key (API Key)\n",
    "    1. Consumer Secret (API Secret)\n",
    "1. Mais abaixo, gere um Token e anote também:\n",
    "    1. Access Token\n",
    "    1. Access Token Secret\n",
    "    \n",
    "1. Preencha os valores no arquivo \"auth.pass\"\n",
    "\n",
    "**ATENÇÃO**: Nunca divulgue os dados desse arquivo online (GitHub, etc). Ele contém as chaves necessárias para realizar as operações no twitter de forma automática e portanto é equivalente a ser \"hackeado\". De posse desses dados, pessoas mal intencionadas podem fazer todas as operações manuais (tweetar, seguir, bloquear/desbloquear, listar os seguidores, etc). Para efeito do projeto, esse arquivo não precisa ser entregue!!!"
   ]
  },
  {
   "cell_type": "code",
   "execution_count": 3,
   "metadata": {
    "collapsed": true
   },
   "outputs": [],
   "source": [
    "#Dados de autenticação do twitter:\n",
    "\n",
    "#Coloque aqui o identificador da conta no twitter: @fulano\n",
    "\n",
    "#leitura do arquivo no formato JSON\n",
    "with open('auth.pass') as fp:    \n",
    "    data = json.load(fp)\n",
    "\n",
    "#Configurando a biblioteca. Não modificar\n",
    "auth = tweepy.OAuthHandler(data['consumer_key'], data['consumer_secret'])\n",
    "auth.set_access_token(data['access_token'], data['access_token_secret'])"
   ]
  },
  {
   "cell_type": "markdown",
   "metadata": {},
   "source": [
    "___\n",
    "## Coletando Dados\n",
    "\n",
    "Agora vamos coletar os dados. Tenha em mente que dependendo do produto escolhido, não haverá uma quantidade significativa de mensagens, ou ainda poder haver muitos retweets.<br /><br /> \n",
    "Configurando:"
   ]
  },
  {
   "cell_type": "code",
   "execution_count": 4,
   "metadata": {
    "collapsed": true
   },
   "outputs": [],
   "source": [
    "#Produto escolhido:\n",
    "produto = 'itau'\n",
    "\n",
    "#Quantidade mínima de mensagens capturadas:\n",
    "n = 500\n",
    "#Quantidade mínima de mensagens para a base de treinamento:\n",
    "t = 300\n",
    "\n",
    "#Filtro de língua, escolha uma na tabela ISO 639-1.\n",
    "lang = 'pt'"
   ]
  },
  {
   "cell_type": "markdown",
   "metadata": {},
   "source": [
    "Capturando os dados do twitter:"
   ]
  },
  {
   "cell_type": "code",
   "execution_count": 5,
   "metadata": {
    "collapsed": false
   },
   "outputs": [],
   "source": [
    "#Cria um objeto para a captura\n",
    "api = tweepy.API(auth)\n",
    "\n",
    "#Inicia a captura, para mais detalhes: ver a documentação do tweepy\n",
    "i = 1\n",
    "msgs = []\n",
    "for msg in tweepy.Cursor(api.search, q=produto, lang=lang).items():    \n",
    "    msgs.append(msg.text.lower())\n",
    "    i += 1\n",
    "    if i > n:\n",
    "        break\n",
    "\n",
    "#Embaralhando as mensagens para reduzir um possível viés\n",
    "shuffle(msgs)"
   ]
  },
  {
   "cell_type": "markdown",
   "metadata": {},
   "source": [
    "Salvando os dados em uma planilha Excel:"
   ]
  },
  {
   "cell_type": "code",
   "execution_count": 6,
   "metadata": {
    "collapsed": true
   },
   "outputs": [],
   "source": [
    "#Verifica se o arquivo não existe para não substituir um conjunto pronto\n",
    "if not os.path.isfile('./{0}.xlsx'.format(produto)):\n",
    "    \n",
    "    #Abre o arquivo para escrita\n",
    "    writer = pd.ExcelWriter('{0}.xlsx'.format(produto))\n",
    "\n",
    "    #divide o conjunto de mensagens em duas planilhas\n",
    "    dft = pd.DataFrame({'Treinamento' : pd.Series(msgs[:t])})\n",
    "    dft.to_excel(excel_writer = writer, sheet_name = 'Treinamento', index = False)\n",
    "\n",
    "    dfc = pd.DataFrame({'Teste' : pd.Series(msgs[t:])})\n",
    "    dfc.to_excel(excel_writer = writer, sheet_name = 'Teste', index = False)\n",
    "\n",
    "    #fecha o arquivo\n",
    "    writer.save()\n",
    "    \n",
    "exceltr=pd.read_excel(\"itau.xlsx\")\n",
    "excelte = pd.read_excel(\"itauteste.xlsx\")\n",
    "SIMs = []\n",
    "NAOs = []\n",
    "listaprobs = []"
   ]
  },
  {
   "cell_type": "markdown",
   "metadata": {},
   "source": [
    "___\n",
    "## Classificando as Mensagens\n",
    "\n",
    "Agora você deve abrir o arquivo Excel com as mensagens capturadas e classificar na Coluna B se a mensagem é relevante ou não.<br /> \n",
    "Não se esqueça de colocar um nome para a coluna na célula **B1**.<br /><br />\n",
    "Fazer o mesmo na planilha de Controle.\n",
    "\n",
    "___\n",
    "## Montando o Classificador Naive-Bayes\n",
    "\n",
    "Com a base de treinamento montada, comece a desenvolver o classificador. Escreva o seu código abaixo:\n",
    "\n",
    "Opcionalmente: \n",
    "* Limpar as mensagens removendo os caracteres: enter, :, \", ', (, ), etc. Não remover emojis.<br />\n",
    "* Corrigir separação de espaços entre palavras e/ou emojis.\n",
    "* Propor outras limpezas/transformações que não afetem a qualidade da informação.\n",
    "\n"
   ]
  },
  {
   "cell_type": "markdown",
   "metadata": {
    "collapsed": true
   },
   "source": [
    "### Cleanning Strings:"
   ]
  },
  {
   "cell_type": "code",
   "execution_count": 7,
   "metadata": {
    "collapsed": false,
    "scrolled": true
   },
   "outputs": [],
   "source": [
    "for i in range(len(exceltr.Treinamento)):\n",
    "    coluna1 = exceltr.Treinamento[i].lower().split()\n",
    "    exceltr.Treinamento[i] = coluna1\n",
    "    for k in range(len(coluna1)):\n",
    "        for punctuation in string.punctuation:\n",
    "            coluna1[k] = coluna1[k].replace(punctuation, '')\n",
    "            coluna1[k] = coluna1[k].replace('—', '')\n",
    "        if exceltr.Relevancia[i] == 'sim':\n",
    "            SIMs.append(coluna1[k])\n",
    "        elif exceltr.Relevancia[i] == 'não':\n",
    "            NAOs.append(coluna1[k])\n",
    "    while '' in coluna1:\n",
    "        coluna1.remove('')\n",
    " \n",
    "    while '' in SIMs:\n",
    "        SIMs.remove('')\n",
    "\n",
    "    while '' in NAOs:\n",
    "        NAOs.remove('')\n",
    "    "
   ]
  },
  {
   "cell_type": "markdown",
   "metadata": {},
   "source": [
    "### Cálculos e contagem de palavras:"
   ]
  },
  {
   "cell_type": "code",
   "execution_count": 8,
   "metadata": {
    "collapsed": false
   },
   "outputs": [
    {
     "name": "stdout",
     "output_type": "stream",
     "text": [
      "Quantidade de sim 74\n",
      "Quantidade de sim 226\n",
      "Total de palavras 1561\n",
      "Total relevantes 487\n",
      "Total não relevantes 1074\n"
     ]
    }
   ],
   "source": [
    "for i in exceltr.Relevancia:\n",
    "    if i == 'sim':\n",
    "        listaprobs.append(i)\n",
    "    if i == 'não':\n",
    "        listaprobs.append(i)\n",
    "QY = 0\n",
    "QN = 0\n",
    "for a in listaprobs:\n",
    "    if a == 'sim':\n",
    "        QY += 1\n",
    "    if a == 'não':\n",
    "        QN += 1\n",
    "        \n",
    "#Conta cada palavra da lista\n",
    "LS = [[x,SIMs.count(x)] for x in set(SIMs)]\n",
    "LN = [[y,NAOs.count(y)] for y in set(NAOs)]\n",
    "\n",
    "\n",
    "#Calcula quantas palavras existem no espaço amostral\n",
    "palav = 0\n",
    "sins = 0\n",
    "naos = 0\n",
    "for a in range(len(LS)):\n",
    "    palav = palav + LS[a][1]\n",
    "    sins = sins + LS[a][1]\n",
    "for a in range(len(LN)):\n",
    "    palav = palav + LN[a][1]\n",
    "    naos = naos + LN[a][1]\n",
    "\n",
    "\n",
    "\n",
    "print(\"Quantidade de sim\", QY)\n",
    "print(\"Quantidade de sim\", QN)\n",
    "print('Total de palavras', len(LS)+len(LN))\n",
    "print('Total relevantes', len(LS))\n",
    "print('Total não relevantes', len(LN))\n",
    "\n",
    "\n",
    "#Limpando a nova planilha\n",
    "for a in range(len(excelte.Teste)):\n",
    "    coluna11 = excelte.Teste[a].lower().split()\n",
    "    for b in range(len(coluna11)):\n",
    "        for punctuation in string.punctuation:\n",
    "            coluna11[b] = coluna11[b].replace(punctuation, '')\n",
    "        coluna11[b] = coluna11[b].replace('—', '')\n",
    "        coluna11[b] = coluna11[b].replace('rt', '')\n",
    "    while '' in coluna11:\n",
    "        coluna11.remove('')\n",
    "    excelte.Teste[i] = coluna11\n",
    "    \n",
    "\n",
    "\n",
    "\n"
   ]
  },
  {
   "cell_type": "markdown",
   "metadata": {},
   "source": [
    "### Calculando as Probabilidade da Relevância dos Tweets:"
   ]
  },
  {
   "cell_type": "code",
   "execution_count": 9,
   "metadata": {
    "collapsed": false
   },
   "outputs": [],
   "source": [
    "probSIM = []\n",
    "l = 1\n",
    "for i in range(len(excelte.Teste)):\n",
    "    clinha = []\n",
    "    for k in range(len(excelte.Teste[i])):\n",
    "        chance = 0\n",
    "        for j in range(len(LS)):\n",
    "            if LS[j][0] == excelte.Teste[i][k]:\n",
    "                chance = ((LS[j][1]+1)/(len(LS)+(len(LS)+len(LN))))\n",
    "                break\n",
    "        if chance > 0:\n",
    "            clinha.append(chance)\n",
    "        elif chance == 0:\n",
    "            clinha.append(1/(len(LS)+(len(LS)+len(LN))))\n",
    "    l = 1\n",
    "    for x in clinha:\n",
    "        l *= x\n",
    "    probSIM.append(l)\n",
    "\n",
    "probNAO = []\n",
    "l = 1\n",
    "for i in range(len(excelte.Teste)):\n",
    "    clinha = []\n",
    "    for k in range(len(excelte.Teste[i])):\n",
    "        chance = 0\n",
    "        for j in range(len(LN)):\n",
    "            if LN[j][0] == excelte.Teste[i][k]:\n",
    "                chance = ((LN[j][1]+1)/(len(LN)+(len(LS)+len(LN))))\n",
    "                break\n",
    "        if chance > 0:\n",
    "            clinha.append(chance)\n",
    "        elif chance == 0:\n",
    "            clinha.append(1/(len(LN)+(len(LS)+len(LN))))\n",
    "    l = 1\n",
    "    for x in clinha:\n",
    "        l *= x\n",
    "    probNAO.append(l)\n"
   ]
  },
  {
   "cell_type": "markdown",
   "metadata": {},
   "source": [
    "### Por fim, podemos comparar as probabilidades:"
   ]
  },
  {
   "cell_type": "code",
   "execution_count": 11,
   "metadata": {
    "collapsed": false
   },
   "outputs": [],
   "source": [
    "L2 = []\n",
    "for a in range(len(probSIM)):\n",
    "    if probSIM[a]>probNAO[a]:\n",
    "        L2.append('sim')\n",
    "    else:\n",
    "        L2.append('não')\n",
    "\n",
    "\n"
   ]
  },
  {
   "cell_type": "markdown",
   "metadata": {},
   "source": [
    "___\n",
    "## Verificando a performance\n",
    "\n",
    "Agora você deve testar o seu Classificador com a base de Testes.<br /><br /> \n",
    "\n",
    "Você deve extrair as seguintes medidas:\n",
    "* Porcentagem de positivos falsos (marcados como relevante mas não são relevantes)\n",
    "* Porcentagem de positivos verdadeiros (marcado como relevante e são relevantes)\n",
    "* Porcentagem de negativos verdadeiros (marcado como não relevante e não são relevantes)\n",
    "* Porcentagem de negativos falsos (marcado como não relevante e são relevantes)\n",
    "\n",
    "Opcionalmente:\n",
    "* Criar categorias intermediárias de relevância baseado na diferença de probabilidades. Exemplo: muito relevante, relevante, neutro, irrelevante e muito irrelevante."
   ]
  },
  {
   "cell_type": "code",
   "execution_count": 12,
   "metadata": {
    "collapsed": false,
    "scrolled": true
   },
   "outputs": [
    {
     "name": "stdout",
     "output_type": "stream",
     "text": [
      "Positivos Falsos 0.12422360248447205\n",
      "Positivos verdadeiros 0.41025641025641024\n",
      "Irrelevantes verdadeiros 0.8757763975155279\n",
      "Irrelevantes Falsos 0.5897435897435898\n"
     ]
    }
   ],
   "source": [
    "print(\"Positivos Falsos\", (20/161))\n",
    "print(\"Positivos verdadeiros\", (16/39))\n",
    "print(\"Irrelevantes verdadeiros\", (141/161))\n",
    "print(\"Irrelevantes Falsos\", (23/39))"
   ]
  },
  {
   "cell_type": "markdown",
   "metadata": {
    "collapsed": true
   },
   "source": [
    "___\n",
    "## Concluindo\n",
    "\n",
    "Escreva aqui a sua conclusão.<br /> \n",
    "Faça um comparativo qualitativo sobre as medidas obtidas.<br />\n",
    "Explique como são tratadas as mensagens com dupla negação e sarcasmo.<br />\n",
    "Proponha um plano de expansão. Por que eles devem continuar financiando o seu projeto?<br />\n",
    "\n",
    "Opcionalmente: \n",
    "* Discorrer por que não posso alimentar minha base de Treinamento automaticamente usando o próprio classificador, aplicado a novos tweets.\n",
    "* Propor diferentes cenários de uso para o classificador Naive-Bayes. Cenários sem intersecção com este projeto.\n",
    "* Sugerir e explicar melhorias reais no classificador com indicações concretas de como implementar (não é preciso codificar, mas indicar como fazer e material de pesquisa sobre o assunto).\n"
   ]
  },
  {
   "cell_type": "markdown",
   "metadata": {
    "collapsed": true
   },
   "source": [
    "## Comparativo qualitativo sobre as medidas obtidas:\n",
    "#### O classificador automático de sentimento conseguiu identificar os posts relevantes corretamente sobre o itaú em 41,02% das vezes. Porém, quando este mesmo classificador automático (programado sobre uma base de dados \"treinamento\") calcula a porcentagem de erro sobre os tweets relevantes, obtem-se um resultado equivalente a 12,42%. Já sobre os irrelevantes (\"spam\"), o  classificador automático de sentimento conseguiu identificar corretamente em 87,57% das vezes. Porém, quando este mesmo classificador automático calcula a porcentagem de erro sobre os tweets irrelevantes, obtem-se um resultado equivalente a 58,97% As mensagens que contêm sarcasmo  geralmente são classificadas de uma forma errada. Por exemplo: \"-Meu Deus, esse aplicativo do itaú é tão bom que quando eu fui abrir meu celular travou. Obrigado itaú.\" - note que na frase é relevante, porém negativa para a imagem do itaú nas redes sociais. Contudo é identificada como sendo e relevante por conter palavras como \"bom\" e \"obrigado\".\n",
    "#### Este projeto visa a perfeição (99,99% de acertos). Isto é, uma base de treinamento que se atualize a todo momento, sendo capaz de identificar, também, ironias. Para isso, precisamos do apoio do Banco itaú para que possamos contratar mais desenvolvedores para acelerar este projeto.\n",
    "\n",
    "\n",
    "\n",
    "## Opcionais:\n",
    "#### Alimentar a base de Treinamento automaticamente usando o próprio classificador, neste projeto não é aconselhável pois o classificador Nayve-Bayes só é capaz de identifica as mesagens ao \"pé da letra\". Ou seja, para poder utilizar a base de teste (novos tweets) como base de treinamento, é preciso que mais desenvolvedores atuem no programa.\n",
    "#### O Naive-Bayes pode ser utilizado para comparar, por exemplo, resultados de um jogo de futebol. Neste exemplo, o classificador seria responsável pela análise de resultados e acontecimentos de jogos passados. O resultado (crosstab de dados) poderia identificar um padrão nos jogos que foram ganhos ou um padrão nos jogos que foram perdidos. Com isto a equipe poderá melhorar seu desempenho constantemente, reparando os erros para, nos próximos jogos, obeter melhores resultados."
   ]
  },
  {
   "cell_type": "code",
   "execution_count": null,
   "metadata": {
    "collapsed": true
   },
   "outputs": [],
   "source": []
  }
 ],
 "metadata": {
  "kernelspec": {
   "display_name": "Python 3",
   "language": "python",
   "name": "python3"
  },
  "language_info": {
   "codemirror_mode": {
    "name": "ipython",
    "version": 3
   },
   "file_extension": ".py",
   "mimetype": "text/x-python",
   "name": "python",
   "nbconvert_exporter": "python",
   "pygments_lexer": "ipython3",
   "version": "3.6.0"
  }
 },
 "nbformat": 4,
 "nbformat_minor": 1
}
